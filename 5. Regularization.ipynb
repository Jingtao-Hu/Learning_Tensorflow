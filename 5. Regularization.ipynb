{
 "cells": [
  {
   "cell_type": "code",
   "execution_count": 4,
   "metadata": {},
   "outputs": [],
   "source": [
    "import tensorflow as tf\n",
    "\n",
    "def get_weight(shape,lambd):\n",
    "    var = tf.Variable(tf.random_normal(shape),dtype=tf.float32)\n",
    "    # Add loss with l2_regularizer into collection\n",
    "    tf.add_to_collection('losses',tf.contrib.layers.l2_regularizer(lambd)(var))\n",
    "    return var\n",
    "\n",
    "x = tf.placeholder(tf.float32,shape=[None,2])\n",
    "y_ = tf.placeholder(tf.float32,shape=[None,1])\n",
    "\n",
    "batch_size = 8\n",
    "\n",
    "# Define the number of node in every layer\n",
    "layer_dimension = [2,10,10,10,1]\n",
    "\n",
    "# Define the number of NN layers\n",
    "n_layers = len(layer_dimension)\n",
    "\n",
    "cur_layer = x\n",
    "\n",
    "# Define the number of node in current layer\n",
    "in_dimension = layer_dimension[0]\n",
    "\n",
    "# Generate 5 full connected layers\n",
    "for i in range(1,n_layers):\n",
    "    # layer_dimension[i] is the number of next layer\n",
    "    out_dimension = layer_dimension[i]\n",
    "    \n",
    "    # Generate the variable, and add its loss with l2_regularizer into collection on graph\n",
    "    weight = get_weight([in_dimension,out_dimension],0.001)\n",
    "    bias = tf.Variable(tf.constant(0.1,shape=[out_dimension]))\n",
    "    \n",
    "    # Activation function\n",
    "    cur_layer = tf.nn.relu(tf.matmul(cur_layer,weight)+bias)\n",
    "    \n",
    "    in_dimension = layer_dimension[i]\n",
    "\n",
    "mse_loss = tf.reduce_mean(tf.square(y_ - cur_layer))\n",
    "\n",
    "# Add mse_loss into loss collection\n",
    "tf.add_to_collection('losses',mse_loss)\n",
    "\n",
    "loss = tf.add_n(tf.get_collection('losses'))"
   ]
  },
  {
   "cell_type": "code",
   "execution_count": 13,
   "metadata": {},
   "outputs": [
    {
     "name": "stdout",
     "output_type": "stream",
     "text": [
      "[0.009065602, 0.050007362, 0.044528283, 0.006520425, 34.87133]\n",
      "34.87133\n",
      "34.981453\n"
     ]
    }
   ],
   "source": [
    "sess = tf.Session()\n",
    "sess.run(tf.global_variables_initializer())\n",
    "print(sess.run(tf.get_collection('losses'),feed_dict={x:[[1,2],[3,4]],y_:[[5],[6]]}))\n",
    "print(sess.run(mse_loss,feed_dict={x:[[1,2],[3,4]],y_:[[5],[6]]}))\n",
    "print(sess.run(loss,feed_dict={x:[[1,2],[3,4]],y_:[[5],[6]]}))"
   ]
  },
  {
   "cell_type": "code",
   "execution_count": null,
   "metadata": {},
   "outputs": [],
   "source": []
  }
 ],
 "metadata": {
  "kernelspec": {
   "display_name": "Python 3",
   "language": "python",
   "name": "python3"
  },
  "language_info": {
   "codemirror_mode": {
    "name": "ipython",
    "version": 3
   },
   "file_extension": ".py",
   "mimetype": "text/x-python",
   "name": "python",
   "nbconvert_exporter": "python",
   "pygments_lexer": "ipython3",
   "version": "3.6.5"
  }
 },
 "nbformat": 4,
 "nbformat_minor": 2
}
