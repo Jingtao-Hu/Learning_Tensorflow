{
 "cells": [
  {
   "cell_type": "code",
   "execution_count": 3,
   "metadata": {},
   "outputs": [
    {
     "name": "stdout",
     "output_type": "stream",
     "text": [
      "[0.0, 0.0]\n",
      "[5.0, 4.5]\n",
      "[10.0, 4.555]\n",
      "[10.0, 4.60945]\n"
     ]
    }
   ],
   "source": [
    "import tensorflow as tf\n",
    "\n",
    "# Define a variable to calculat moving_average\n",
    "v1 = tf.Variable(0, dtype=tf.float32)\n",
    "\n",
    "# Mimic the current iteration to dynamically control decay rate\n",
    "step = tf.Variable(0, trainable=False)\n",
    "\n",
    "# Define a moving_average class. Initialize the dacay=0.99 and step.\n",
    "ema = tf.train.ExponentialMovingAverage(0.99, step)\n",
    "\n",
    "# Define a operation to update moving_average.\n",
    "# The list will be updated every operation\n",
    "maintain_averages_op = ema.apply([v1])\n",
    "\n",
    "with tf.Session() as sess:\n",
    "    init_op = tf.global_variables_initializer()\n",
    "    sess.run(init_op)\n",
    "    \n",
    "    # Get the value of variables after moving average\n",
    "    print(sess.run([v1, ema.average(v1)]))\n",
    "    \n",
    "    # Update the value of v1 to 5\n",
    "    sess.run(tf.assign(v1,5))\n",
    "    \n",
    "    # Update the moving_average value of v1. \n",
    "    # decay=min(0.99,(1+step)/(10+step)=0.1)=0.1\n",
    "    # the moving_average of v1 will be updated to 0.1x0 + 0.9x5=4.5\n",
    "    sess.run(maintain_averages_op)\n",
    "    print(sess.run([v1, ema.average(v1)]))\n",
    "    \n",
    "    # Update step to 10000\n",
    "    sess.run(tf.assign(step,10000))\n",
    "    \n",
    "    # Update v1 to 10\n",
    "    sess.run(tf.assign(v1,10))\n",
    "    \n",
    "    # Update the moving_average value of v1. \n",
    "    # decay=min(0.99,(1+step)/(10+step)=0.999)=0.99\n",
    "    # the moving_average of v1 will be updated to 0.99x4.5 + 0.01x10=4.555\n",
    "    sess.run(maintain_averages_op)\n",
    "    print(sess.run([v1, ema.average(v1)]))\n",
    "    \n",
    "    # Update moving_average again\n",
    "    sess.run(maintain_averages_op)\n",
    "    print(sess.run([v1, ema.average(v1)]))"
   ]
  },
  {
   "cell_type": "code",
   "execution_count": null,
   "metadata": {},
   "outputs": [],
   "source": []
  }
 ],
 "metadata": {
  "kernelspec": {
   "display_name": "Python 3",
   "language": "python",
   "name": "python3"
  },
  "language_info": {
   "codemirror_mode": {
    "name": "ipython",
    "version": 3
   },
   "file_extension": ".py",
   "mimetype": "text/x-python",
   "name": "python",
   "nbconvert_exporter": "python",
   "pygments_lexer": "ipython3",
   "version": "3.6.5"
  }
 },
 "nbformat": 4,
 "nbformat_minor": 2
}
