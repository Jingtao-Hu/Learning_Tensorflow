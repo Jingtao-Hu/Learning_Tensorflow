{
 "cells": [
  {
   "cell_type": "markdown",
   "metadata": {},
   "source": [
    "# Step 1: Download Anaconda(for version python 3.6)"
   ]
  },
  {
   "cell_type": "markdown",
   "metadata": {},
   "source": [
    "https://www.anaconda.com/download/#windows"
   ]
  },
  {
   "cell_type": "markdown",
   "metadata": {},
   "source": [
    "# Step 2: Install Anaconda(put the path as default)"
   ]
  },
  {
   "cell_type": "markdown",
   "metadata": {},
   "source": [
    "# Step 3:Put the installment catlog of Anaconda, Scripts and libs into environment path"
   ]
  },
  {
   "cell_type": "markdown",
   "metadata": {},
   "source": [
    "# Step 4:Configure CUDA and Cudnn"
   ]
  },
  {
   "cell_type": "markdown",
   "metadata": {},
   "source": [
    "Step 4.1: Download CUDA9.0 https://developer.nvidia.com/cuda-90-download-archive\n",
    "\n",
    "Step 4.2: Download Cudnn(according to the version of CUDA) https://developer.nvidia.com/cudnn\n",
    "    \n",
    "Step 4.3: Extract zip file, and put 3 subfolders(bin, lib, include) into installation path of CUDA\n",
    "    \n",
    "Step 4.4: Add bin path to environment path"
   ]
  },
  {
   "cell_type": "markdown",
   "metadata": {},
   "source": [
    "# Step 5: Install Tensorflow"
   ]
  },
  {
   "cell_type": "markdown",
   "metadata": {},
   "source": [
    "Step 5.1: Open the Anaconda Prompt\n",
    "\n",
    "Step 5.2: Create a conda environment named tensorflow and activate it\n",
    "Run the following commands: conda create -n tensorflow\n",
    "                   activate tensorflow\n",
    "\n",
    "Step 5.3: Install with CPU\n",
    "pip install --ignore-installed --upgrade tensorflow\n",
    "\n",
    "OR Install with GPU\n",
    "pip install --ignore-installed --upgrade tensorflow-gpu"
   ]
  },
  {
   "cell_type": "code",
   "execution_count": null,
   "metadata": {},
   "outputs": [],
   "source": []
  }
 ],
 "metadata": {
  "kernelspec": {
   "display_name": "Python 3",
   "language": "python",
   "name": "python3"
  },
  "language_info": {
   "codemirror_mode": {
    "name": "ipython",
    "version": 3
   },
   "file_extension": ".py",
   "mimetype": "text/x-python",
   "name": "python",
   "nbconvert_exporter": "python",
   "pygments_lexer": "ipython3",
   "version": "3.6.5"
  }
 },
 "nbformat": 4,
 "nbformat_minor": 2
}
