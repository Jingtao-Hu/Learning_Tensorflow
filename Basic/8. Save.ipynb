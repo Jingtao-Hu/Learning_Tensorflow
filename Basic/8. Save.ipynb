{
 "cells": [
  {
   "cell_type": "code",
   "execution_count": null,
   "metadata": {},
   "outputs": [],
   "source": [
    "# Save the model\n",
    "\n",
    "import tensorflow as tf\n",
    "\n",
    "v1 = tf.Variable(tf.constant(1.0, shape=[1]),name='v1')\n",
    "v2 = tf.Variable(tf.constant(2.0,shape=[1]),name='v2')\n",
    "result = v1 + v2\n",
    "\n",
    "init_op = tf.global_variables_initializer()\n",
    "\n",
    "saver = tf.train.Saver()\n",
    "\n",
    "with tf.Session() as sess:\n",
    "    sess.run(init_op)\n",
    "    \n",
    "    saver.save(sess, \"/path/to/model/model.ckpt\")"
   ]
  },
  {
   "cell_type": "code",
   "execution_count": null,
   "metadata": {},
   "outputs": [],
   "source": [
    "# Restore the model\n",
    "\n",
    "import tensorflow as tf\n",
    "\n",
    "# Using the same method to set variables\n",
    "v1 = tf.Variable(tf.constant(1.0, shape=[1]),name='v1')\n",
    "v2 = tf.Variable(tf.constant(2.0,shape=[1]),name='v2')\n",
    "result = v1 + v2\n",
    "\n",
    "saver = tf.train.Saver()\n",
    "\n",
    "with tf.Session() as sess:\n",
    "    # Load the saved model\n",
    "    saver.restore(sess,\"path/to/model/model.ckpt\")\n",
    "    \n",
    "    print(sess.run(result))\n",
    "    \n",
    "# If you do not want to re-define the variables\n",
    "saver = tf.train.import_meta_graph(\"path/to/model/model.ckpt/model.ckpt.meta\")\n",
    "\n",
    "with tf.Session() as sess:\n",
    "    saver.restore(sess, \"path/to/model/model.ckpt\")\n",
    "    # Get the tensor by the name of tensor\n",
    "    print(sess.run(tf.get_default_graph().get_tensor_by_name(\"add:0\")))"
   ]
  }
 ],
 "metadata": {
  "kernelspec": {
   "display_name": "Python 3",
   "language": "python",
   "name": "python3"
  },
  "language_info": {
   "codemirror_mode": {
    "name": "ipython",
    "version": 3
   },
   "file_extension": ".py",
   "mimetype": "text/x-python",
   "name": "python",
   "nbconvert_exporter": "python",
   "pygments_lexer": "ipython3",
   "version": "3.6.5"
  }
 },
 "nbformat": 4,
 "nbformat_minor": 2
}
