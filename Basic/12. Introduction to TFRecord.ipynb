{
 "cells": [
  {
   "cell_type": "markdown",
   "metadata": {},
   "source": [
    "# Writing data into TFRecord"
   ]
  },
  {
   "cell_type": "code",
   "execution_count": 2,
   "metadata": {},
   "outputs": [
    {
     "name": "stdout",
     "output_type": "stream",
     "text": [
      "Extracting ./mnist/train-images-idx3-ubyte.gz\n",
      "Extracting ./mnist/train-labels-idx1-ubyte.gz\n",
      "Extracting ./mnist/t10k-images-idx3-ubyte.gz\n",
      "Extracting ./mnist/t10k-labels-idx1-ubyte.gz\n"
     ]
    }
   ],
   "source": [
    "import tensorflow as tf\n",
    "from tensorflow.examples.tutorials.mnist import input_data\n",
    "import numpy as np\n",
    "\n",
    "# Generating int type\n",
    "def _int64_feature(value):\n",
    "    return tf.train.Feature(int64_list=tf.train.Int64List(value=[value]))\n",
    "\n",
    "# Geberating string type\n",
    "def _bytes_feature(value):\n",
    "    return tf.train.Feature(bytes_list=tf.train.BytesList(value=[value]))\n",
    "\n",
    "mnist = input_data.read_data_sets('./mnist',dtype=tf.uint8,one_hot=True)\n",
    "\n",
    "images = mnist.train.images\n",
    "\n",
    "labels = mnist.train.labels\n",
    "\n",
    "pixels = images.shape[1]\n",
    "\n",
    "num_examples = mnist.train.num_examples\n",
    "\n",
    "# The path to input TFRecord files\n",
    "filename = './mnist/output.tfrecords'\n",
    "\n",
    "# Creating a writer for TFRecord files\n",
    "writer = tf.python_io.TFRecordWriter(filename)\n",
    "for index in range(num_examples):\n",
    "    # transfering image matrix into a string\n",
    "    image_raw = images[index].tostring()\n",
    "    \n",
    "    # trandfering a example into Example Protocol Buffer, and writing all information into this structure\n",
    "    example = tf.train.Example(features=tf.train.Features(feature={\n",
    "        'pixels':_int64_feature(pixels),\n",
    "        'label':_int64_feature(np.argmax(labels[index])),\n",
    "        'image_raw': _bytes_feature(image_raw)\n",
    "    }))\n",
    "    \n",
    "    # Writing an Example into TFRecord file\n",
    "    writer.write(example.SerializeToString())\n",
    "    \n",
    "writer.close()"
   ]
  },
  {
   "cell_type": "markdown",
   "metadata": {},
   "source": [
    "# Reading data from TFRecord"
   ]
  },
  {
   "cell_type": "code",
   "execution_count": 4,
   "metadata": {},
   "outputs": [],
   "source": [
    "import tensorflow as tf\n",
    "\n",
    "# Creating a reader for reading the example in TFRecord\n",
    "reader = tf.TFRecordReader()\n",
    "\n",
    "# Creating a queue for protecting the list of inputdata\n",
    "filename_queue = tf.train.string_input_producer(\n",
    "    ['./mnist/output.tfrecords'])\n",
    "\n",
    "# Reading one example from file; you can also read more examples by read_up_to\n",
    "_, serialized_example = reader.read(filename_queue)\n",
    "\n",
    "# Parsing the reading example; parse_example for more examples\n",
    "features = tf.parse_single_example(\n",
    "    serialized_example,\n",
    "    features={\n",
    "        # tf.FixedLenFeatue, leads to Tensor; tf.VarLenFeature, leads to SparseTensor\n",
    "        'image_raw':tf.FixedLenFeature([], tf.string),\n",
    "        'pixels': tf.FixedLenFeature([], tf.int64),\n",
    "        'label': tf.FixedLenFeature([], tf.int64)\n",
    "    })\n",
    "\n",
    "# tf.decode_raw parses strings into pixels matrix\n",
    "images = tf.decode_raw(features['image_raw'],tf.uint8)\n",
    "labels = tf.cast(features['label'],tf.int32)\n",
    "pixels = tf.cast(features['pixels'],tf.int32)\n",
    "\n",
    "sess = tf.Session()\n",
    "# Set up multi-thread process\n",
    "coord = tf.train.Coordinator()\n",
    "threads = tf.train.start_queue_runners(sess=sess, coord=coord)\n",
    "\n",
    "# Reading one example from TFRecord every running\n",
    "for i in range(10):\n",
    "    image, label, pixel = sess.run([images,labels,pixels])"
   ]
  },
  {
   "cell_type": "code",
   "execution_count": null,
   "metadata": {},
   "outputs": [],
   "source": []
  }
 ],
 "metadata": {
  "kernelspec": {
   "display_name": "Python 3",
   "language": "python",
   "name": "python3"
  },
  "language_info": {
   "codemirror_mode": {
    "name": "ipython",
    "version": 3
   },
   "file_extension": ".py",
   "mimetype": "text/x-python",
   "name": "python",
   "nbconvert_exporter": "python",
   "pygments_lexer": "ipython3",
   "version": "3.6.5"
  }
 },
 "nbformat": 4,
 "nbformat_minor": 2
}
