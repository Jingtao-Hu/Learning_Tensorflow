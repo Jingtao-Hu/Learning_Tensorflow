{
 "cells": [
  {
   "cell_type": "code",
   "execution_count": 1,
   "metadata": {},
   "outputs": [
    {
     "name": "stderr",
     "output_type": "stream",
     "text": [
      "/Users/quansun/anaconda3/lib/python3.6/site-packages/h5py/__init__.py:36: FutureWarning: Conversion of the second argument of issubdtype from `float` to `np.floating` is deprecated. In future, it will be treated as `np.float64 == np.dtype(float).type`.\n",
      "  from ._conv import register_converters as _register_converters\n"
     ]
    }
   ],
   "source": [
    "import tensorflow as tf\n",
    "\n",
    "# Parameters\n",
    "INPUT_NODE = 784\n",
    "OUTPUT_NODE = 10\n",
    "\n",
    "IMAGE_SIZE = 28\n",
    "NUM_CHANNELS = 1\n",
    "NUM_LABELS = 10\n",
    "\n",
    "CONV1_DEEP = 32\n",
    "CONV1_SIZE = 5\n",
    "\n",
    "CONV2_DEEP = 64\n",
    "CONV2_SIZE = 5\n",
    "\n",
    "FC_SIZE = 512\n",
    "\n",
    "def inference(input_tensor,train,regularizer):\n",
    "    with tf.Variable_scope('layer1-conv1'):\n",
    "        conv1_weights = tf.get_variable(\"weight\", [CONV1_SIZE,CONV1_SIZE,NUM_CHANNELS,CONV1_DEEP],\n",
    "                                       initializer=tf.truncated_normal_initializer(stddev=0.1))\n",
    "        conv1_biases = tf.get_variable(\"bias\",[CONV1_DEEP],initializer=tf.constant_initializer(0.0))\n",
    "        \n",
    "        conv1 = tf.nn.conv2d(input_tensor,conv1_weights,strides=[1,1,1,1],padding='SAME')\n",
    "        relu1 = tf.nn.relu(tf.nn.bias_add(conv1,conv1_biases))\n",
    "        \n",
    "    with tf.name_scope('layer2-pool1'):\n",
    "        pool1 = tf.nn.max_pool(relu1,ksize=[1,2,2,1],strides=[1,2,2,1],padding='SAME')\n",
    "        \n",
    "    with tf.Variable_scope('layer3-conv2'):\n",
    "        conv2_weights = tf.get_Variable(\"weight\",[CONV2_SIZE,CONV2_SIZE,CONV1_DEEP,CONV2_DEEP],\n",
    "                                       initializer=tf.truncated_normal_initializer(stddev=0.1))\n",
    "        conv2_biases = tf.get_variable(\"bias\",[CONV2_DEEP],initializer=tf.constant_initializer(0.0))\n",
    "        \n",
    "        conv2 = tf.nn.conv2d(pool1,conv2_weights,strides=[1,1,1,1],padding='SAME')\n",
    "        relu2 = tf.nn.relu(tf.nn.bias_add(conv2,conv2_biases))\n",
    "        \n",
    "    with tf.name_scope('layer4-pool2'):\n",
    "        pool2 = tf.nn.max_pool(relu2, ksize=[1,2,2,1],strides=[1,2,2,1],padding='SAME')\n",
    "        \n",
    "    pool_shape = pool2.get_shape().as_list()\n",
    "    nodes = pool_shape[1]*pool_shape[2]*pool_shape[3]\n",
    "    reshaped = tf.reshape(pool2,[pool_shape[0],nodes])\n",
    "    \n",
    "    with tf.Variable_scope('layer5-fc1'):\n",
    "        fc1_weights = tf.get_variable(\"weight\",[nodes,FC_SIZE],\n",
    "                                     initializer=tf.truncated_nornaml_initializer(stddev=0.1))\n",
    "        if regularizer != None:\n",
    "            tf.add_to_collection(\"losses\",regularizer(fc1_weights))\n",
    "            \n",
    "        fc1_biases = tf.get_variable(\"bias\",[FC_SIZE],initializer=tf.constant_initializer(0.1))\n",
    "        fc1 = tf.nn.relu(tf.matmul(reshaped,fc1_weights)+fc1_biases)\n",
    "        if train:\n",
    "            fc1 = tf.nn.dropout(fc1, 0.5)\n",
    "    \n",
    "    with tf.variable_scope('layer6-fc2'):\n",
    "        fc2_weights = tf.get_variable(\"weights\",[FC_SIZE,NUM_LABELS],\n",
    "                                     initializer=tf.truncated_normal_initializer(stddev=0.1))\n",
    "        if regularizer !=None:\n",
    "            tf.add_to_collection('losses',regularizer(fc2_weights))\n",
    "        fc2_biases = tf.get_variable(\"bias\",[NUM_LABELS],initializer=tf.constant_initializer(0.1))\n",
    "        logit = tf.matmul(fc1,fc2_weights) + fc2_biases\n",
    "    return logit\n",
    "        "
   ]
  },
  {
   "cell_type": "code",
   "execution_count": null,
   "metadata": {},
   "outputs": [],
   "source": []
  }
 ],
 "metadata": {
  "kernelspec": {
   "display_name": "Python 3",
   "language": "python",
   "name": "python3"
  },
  "language_info": {
   "codemirror_mode": {
    "name": "ipython",
    "version": 3
   },
   "file_extension": ".py",
   "mimetype": "text/x-python",
   "name": "python",
   "nbconvert_exporter": "python",
   "pygments_lexer": "ipython3",
   "version": "3.6.5"
  }
 },
 "nbformat": 4,
 "nbformat_minor": 2
}
